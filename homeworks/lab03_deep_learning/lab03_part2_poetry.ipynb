{
  "cells": [
    {
      "cell_type": "markdown",
      "metadata": {
        "id": "C_gKKhN41a6q"
      },
      "source": [
        "### Part 2: Poetry generation (for real)\n",
        "\n",
        "Let's try to generate some poetry using RNNs.\n",
        "\n",
        "You have several choices here:\n",
        "\n",
        "* The Shakespeare sonnets, file `sonnets.txt` available in the notebook directory.\n",
        "\n",
        "* Роман в стихах \"Евгений Онегин\" Александра Сергеевича Пушкина. В предобработанном виде доступен по [ссылке](https://github.com/attatrol/data_sources/blob/master/onegin.txt).\n",
        "\n",
        "* Some other text source, if it will be approved by the course staff.\n",
        "\n",
        "Text generation can be designed in several steps:\n",
        "    \n",
        "1. Data loading.\n",
        "2. Dictionary generation.\n",
        "3. Data preprocessing.\n",
        "4. Model (neural network) training.\n",
        "5. Text generation (model evaluation).\n"
      ]
    },
    {
      "cell_type": "code",
      "execution_count": 1,
      "metadata": {
        "id": "v_lzib861a6r"
      },
      "outputs": [],
      "source": [
        "import string\n",
        "import os"
      ]
    },
    {
      "cell_type": "markdown",
      "metadata": {
        "id": "0fL0tIbv1a6s"
      },
      "source": [
        "### Data loading: Shakespeare"
      ]
    },
    {
      "cell_type": "markdown",
      "metadata": {
        "id": "T4fxV9BW1a6s"
      },
      "source": [
        "Shakespeare sonnets are awailable at this [link](http://www.gutenberg.org/ebooks/1041?msg=welcome_stranger). In addition, they are stored in the same directory as this notebook (`sonnetes.txt`). Simple preprocessing is already done for you in the next cell: all technical info is dropped."
      ]
    },
    {
      "cell_type": "code",
      "execution_count": 3,
      "metadata": {
        "collapsed": true,
        "id": "lk3fYrD11a6s",
        "outputId": "d937a999-d9e7-453b-cdc0-afd08cd3f6ba",
        "colab": {
          "base_uri": "https://localhost:8080/"
        }
      },
      "outputs": [
        {
          "output_type": "stream",
          "name": "stdout",
          "text": [
            "--2024-12-15 19:46:02--  https://raw.githubusercontent.com/girafe-ai/ml-course/refs/heads/24f_mipt/homeworks/lab03_deep_learning/sonnets.txt\n",
            "Resolving raw.githubusercontent.com (raw.githubusercontent.com)... 185.199.108.133, 185.199.109.133, 185.199.111.133, ...\n",
            "Connecting to raw.githubusercontent.com (raw.githubusercontent.com)|185.199.108.133|:443... connected.\n",
            "HTTP request sent, awaiting response... 200 OK\n",
            "Length: 119748 (117K) [text/plain]\n",
            "Saving to: ‘sonnets.txt’\n",
            "\n",
            "sonnets.txt         100%[===================>] 116.94K  --.-KB/s    in 0.1s    \n",
            "\n",
            "2024-12-15 19:46:02 (1.07 MB/s) - ‘sonnets.txt’ saved [119748/119748]\n",
            "\n"
          ]
        }
      ],
      "source": [
        "if not os.path.exists('sonnets.txt'):\n",
        "    !wget https://raw.githubusercontent.com/girafe-ai/ml-course/refs/heads/24f_mipt/homeworks/lab03_deep_learning/sonnets.txt\n",
        "\n",
        "with open('sonnets.txt', 'r') as iofile:\n",
        "    text = iofile.readlines()\n",
        "\n",
        "TEXT_START = 45\n",
        "TEXT_END = -368\n",
        "text = text[TEXT_START : TEXT_END]\n",
        "assert len(text) == 2616"
      ]
    },
    {
      "cell_type": "markdown",
      "metadata": {
        "id": "fGFY-XLD1a6s"
      },
      "source": [
        "In opposite to the in-class practice, this time we want to predict complex text. Let's reduce the complexity of the task and lowercase all the symbols.\n",
        "\n",
        "Now variable `text` is a list of strings. Join all the strings into one and lowercase it."
      ]
    },
    {
      "cell_type": "code",
      "execution_count": 5,
      "metadata": {
        "id": "uKOioNrJ1a6t",
        "outputId": "7f5b7517-eb20-4f1e-8079-8adf33db5086",
        "colab": {
          "base_uri": "https://localhost:8080/"
        }
      },
      "outputs": [
        {
          "output_type": "stream",
          "name": "stdout",
          "text": [
            "OK!\n"
          ]
        }
      ],
      "source": [
        "# Join all the strings into one and lowercase it\n",
        "# Put result into variable text.\n",
        "\n",
        "# Your great code here\n",
        "text = ''.join(text).lower()\n",
        "assert len(text) == 100225, \"Are you sure you have concatenated all the strings?\"\n",
        "assert not any([x in set(text) for x in string.ascii_uppercase]), \"Uppercase letters are present\"\n",
        "print(\"OK!\")"
      ]
    },
    {
      "cell_type": "markdown",
      "metadata": {
        "id": "WYmEA2JI1a6t"
      },
      "source": [
        "### Data loading: \"Евгений Онегин\"\n"
      ]
    },
    {
      "cell_type": "code",
      "execution_count": null,
      "metadata": {
        "id": "ibhwtMMi1a6t",
        "outputId": "78ada0fe-96c0-441a-c432-e6e3f4705d8c"
      },
      "outputs": [
        {
          "name": "stdout",
          "output_type": "stream",
          "text": [
            "Warning: Failed to set locale category LC_NUMERIC to en_RU.\n",
            "Warning: Failed to set locale category LC_TIME to en_RU.\n",
            "Warning: Failed to set locale category LC_COLLATE to en_RU.\n",
            "Warning: Failed to set locale category LC_MONETARY to en_RU.\n",
            "Warning: Failed to set locale category LC_MESSAGES to en_RU.\n",
            "--2020-05-10 19:02:32--  https://raw.githubusercontent.com/attatrol/data_sources/master/onegin.txt\n",
            "Resolving raw.githubusercontent.com (raw.githubusercontent.com)... 151.101.244.133\n",
            "Connecting to raw.githubusercontent.com (raw.githubusercontent.com)|151.101.244.133|:443... connected.\n",
            "HTTP request sent, awaiting response... 200 OK\n",
            "Length: 262521 (256K) [text/plain]\n",
            "Saving to: ‘onegin.txt’\n",
            "\n",
            "onegin.txt          100%[===================>] 256.37K  --.-KB/s    in 0.1s    \n",
            "\n",
            "2020-05-10 19:02:33 (2.25 MB/s) - ‘onegin.txt’ saved [262521/262521]\n",
            "\n"
          ]
        }
      ],
      "source": [
        "!wget https://raw.githubusercontent.com/attatrol/data_sources/master/onegin.txt\n",
        "\n",
        "with open('onegin.txt', 'r') as iofile:\n",
        "    text = iofile.readlines()\n",
        "\n",
        "text = [x.replace('\\t\\t', '') for x in text]"
      ]
    },
    {
      "cell_type": "markdown",
      "metadata": {
        "id": "5aKLthZ01a6t"
      },
      "source": [
        "In opposite to the in-class practice, this time we want to predict complex text. Let's reduce the complexity of the task and lowercase all the symbols.\n",
        "\n",
        "Now variable `text` is a list of strings. Join all the strings into one and lowercase it."
      ]
    },
    {
      "cell_type": "code",
      "execution_count": null,
      "metadata": {
        "id": "DU-I65qX1a6u"
      },
      "outputs": [],
      "source": [
        "# Join all the strings into one and lowercase it\n",
        "# Put result into variable text.\n",
        "\n",
        "# Your great code here"
      ]
    },
    {
      "cell_type": "markdown",
      "metadata": {
        "id": "wukkomIk1a6u"
      },
      "source": [
        "Put all the characters, that you've seen in the text, into variable `tokens`."
      ]
    },
    {
      "cell_type": "code",
      "execution_count": 8,
      "metadata": {
        "id": "w4i7lHIF1a6u"
      },
      "outputs": [],
      "source": [
        "out = text\n",
        "tokens = sorted(set(out))"
      ]
    },
    {
      "cell_type": "markdown",
      "metadata": {
        "id": "sgTfKNE71a6u"
      },
      "source": [
        "Create dictionary `token_to_idx = {<char>: <index>}` and dictionary `idx_to_token = {<index>: <char>}`"
      ]
    },
    {
      "cell_type": "code",
      "execution_count": 9,
      "metadata": {
        "collapsed": true,
        "id": "UdsTwZ9f1a6u",
        "outputId": "3b00a65f-6df1-4601-fbf7-71f6b3db726b",
        "colab": {
          "base_uri": "https://localhost:8080/"
        }
      },
      "outputs": [
        {
          "output_type": "stream",
          "name": "stdout",
          "text": [
            "38\n"
          ]
        }
      ],
      "source": [
        "# dict <index>:<char>\n",
        "# Your great code here\n",
        "token_to_idx = {token: idx for idx, token in enumerate(tokens)}\n",
        "idx_to_token = {idx: token for idx, token in enumerate(tokens)}\n",
        "print(len(tokens))\n",
        "# dict <char>:<index>\n",
        "# Your great code here"
      ]
    },
    {
      "cell_type": "markdown",
      "metadata": {
        "id": "nTsnoKnC1a6u"
      },
      "source": [
        "*Comment: in this task we have only 38 different tokens, so let's use one-hot encoding.*"
      ]
    },
    {
      "cell_type": "markdown",
      "metadata": {
        "id": "pFzjBJtI1a6u"
      },
      "source": [
        "### Building the model"
      ]
    },
    {
      "cell_type": "markdown",
      "metadata": {
        "id": "jddFKMSP1a6u"
      },
      "source": [
        "Now we want to build and train recurrent neural net which would be able to something similar to Shakespeare's poetry.\n",
        "\n",
        "Let's use vanilla RNN, similar to the one created during the lesson."
      ]
    },
    {
      "cell_type": "code",
      "execution_count": 10,
      "metadata": {
        "collapsed": true,
        "id": "fXkZYqfA1a6u"
      },
      "outputs": [],
      "source": [
        "import torch\n",
        "import torch.nn as nn\n",
        "import torch.optim as optim\n",
        "import numpy as np\n",
        "import matplotlib.pyplot as plt\n",
        "\n",
        "# Hyperparameters\n",
        "SEQ_LENGTH = 40\n",
        "HIDDEN_SIZE = 128\n",
        "EMBEDDING_DIM = 32\n",
        "NUM_LAYERS = 1\n",
        "EPOCHS = 20\n",
        "BATCH_SIZE = 64\n",
        "LEARNING_RATE =\n",
        "MAX_LENGTH = 200\n",
        "\n",
        "class CharRNN(nn.Module):\n",
        "    def __init__(self, vocab_size, embedding_dim, hidden_size, num_layers):\n",
        "        super(CharRNN, self).__init__()\n",
        "        self.hidden_size = hidden_size\n",
        "        self.num_layers = num_layers\n",
        "\n",
        "        self.embedding = nn.Embedding(vocab_size, embedding_dim)\n",
        "        self.rnn = nn.RNN(embedding_dim, hidden_size, num_layers, batch_first=True)\n",
        "        self.fc = nn.Linear(hidden_size, vocab_size)\n",
        "\n",
        "    def forward(self, x, hidden_state):\n",
        "        x = self.embedding(x)  # Embed input\n",
        "        out, hidden_state = self.rnn(x, hidden_state)  # RNN forward\n",
        "        out = self.fc(out)  # Fully connected layer\n",
        "        return out, hidden_state\n",
        "\n",
        "    def initial_state(self, batch_size):\n",
        "        return torch.zeros(self.num_layers, batch_size, self.hidden_size)\n"
      ]
    },
    {
      "cell_type": "code",
      "source": [
        "def create_sequences(data, seq_length):\n",
        "    inputs = []\n",
        "    targets = []\n",
        "    for i in range(len(data) - seq_length):\n",
        "        inputs.append(data[i : i + seq_length])\n",
        "        targets.append(data[i + 1 : i + seq_length + 1])\n",
        "    return np.array(inputs), np.array(targets)\n",
        "\n",
        "encoded_text = [token_to_idx[char] for char in text]\n",
        "inputs, targets = create_sequences(encoded_text, SEQ_LENGTH)\n",
        "\n",
        "inputs = torch.tensor(inputs, dtype=torch.long)\n",
        "targets = torch.tensor(targets, dtype=torch.long)\n",
        "dataset = torch.utils.data.TensorDataset(inputs, targets)\n",
        "dataloader = torch.utils.data.DataLoader(dataset, batch_size=BATCH_SIZE, shuffle=True)\n"
      ],
      "metadata": {
        "id": "Ffcjkhs23FLR"
      },
      "execution_count": 11,
      "outputs": []
    },
    {
      "cell_type": "code",
      "source": [
        "vocab_size = len(tokens)\n",
        "model = CharRNN(vocab_size, EMBEDDING_DIM, HIDDEN_SIZE, NUM_LAYERS)\n",
        "criterion = nn.CrossEntropyLoss()\n",
        "optimizer = optim.Adam(model.parameters(), lr=LEARNING_RATE)\n",
        "\n",
        "losses = []\n",
        "for epoch in range(EPOCHS):\n",
        "    total_loss = 0\n",
        "    for batch_inputs, batch_targets in dataloader:\n",
        "        hidden_state = hidden_state = model.initial_state(batch_inputs.size(0))\n",
        "        batch_targets = batch_targets.view(-1)\n",
        "\n",
        "        outputs, hidden_state = model(batch_inputs, hidden_state)\n",
        "        outputs = outputs.view(-1, vocab_size)\n",
        "        loss = criterion(outputs, batch_targets)\n",
        "\n",
        "        optimizer.zero_grad()\n",
        "        loss.backward()\n",
        "        optimizer.step()\n",
        "\n",
        "        total_loss += loss.item()\n",
        "    avg_loss = total_loss / len(dataloader)\n",
        "    losses.append(avg_loss)\n",
        "    print(f\"Epoch {epoch + 1}/{EPOCHS}, Loss: {avg_loss:.4f}\")\n"
      ],
      "metadata": {
        "id": "cLwEp3UY3Hvw",
        "outputId": "3b5fc2a3-fb9a-4ee7-f8df-fff015906375",
        "colab": {
          "base_uri": "https://localhost:8080/"
        }
      },
      "execution_count": 13,
      "outputs": [
        {
          "output_type": "stream",
          "name": "stdout",
          "text": [
            "Epoch 1/20, Loss: 1.5632\n",
            "Epoch 2/20, Loss: 1.3847\n",
            "Epoch 3/20, Loss: 1.3546\n",
            "Epoch 4/20, Loss: 1.3418\n",
            "Epoch 5/20, Loss: 1.3361\n",
            "Epoch 6/20, Loss: 1.3338\n",
            "Epoch 7/20, Loss: 1.3335\n",
            "Epoch 8/20, Loss: 1.3344\n",
            "Epoch 9/20, Loss: 1.3366\n",
            "Epoch 10/20, Loss: 1.3389\n",
            "Epoch 11/20, Loss: 1.3444\n",
            "Epoch 12/20, Loss: 1.3476\n",
            "Epoch 13/20, Loss: 1.3499\n",
            "Epoch 14/20, Loss: 1.3574\n",
            "Epoch 15/20, Loss: 1.3573\n",
            "Epoch 16/20, Loss: 1.3624\n",
            "Epoch 17/20, Loss: 1.3723\n",
            "Epoch 18/20, Loss: 1.3732\n",
            "Epoch 19/20, Loss: 1.3782\n",
            "Epoch 20/20, Loss: 1.3953\n"
          ]
        }
      ]
    },
    {
      "cell_type": "markdown",
      "metadata": {
        "id": "qo6bwB-k1a6u"
      },
      "source": [
        "Plot the loss function (axis X: number of epochs, axis Y: loss function)."
      ]
    },
    {
      "cell_type": "code",
      "execution_count": 14,
      "metadata": {
        "collapsed": true,
        "id": "f6DDlcJ11a6v",
        "outputId": "7021be3f-42ac-4cdf-92ac-033ed7039e70",
        "colab": {
          "base_uri": "https://localhost:8080/",
          "height": 472
        }
      },
      "outputs": [
        {
          "output_type": "display_data",
          "data": {
            "text/plain": [
              "<Figure size 640x480 with 1 Axes>"
            ],
            "image/png": "[encoded data removed]"
          },
          "metadata": {}
        }
      ],
      "source": [
        "plt.plot(losses, label=\"Loss\")\n",
        "plt.xlabel(\"Epoch\")\n",
        "plt.ylabel(\"Loss\")\n",
        "plt.title(\"Loss Function\")\n",
        "plt.legend()\n",
        "plt.show()\n"
      ]
    },
    {
      "cell_type": "code",
      "execution_count": 15,
      "metadata": {
        "id": "11lgciDX1a6v"
      },
      "outputs": [],
      "source": [
        "def generate_sample(char_rnn, seed_phrase=\" hello\", max_length=MAX_LENGTH, temperature=1.0):\n",
        "    x_sequence = [token_to_idx[char] for char in seed_phrase]\n",
        "    x_sequence = torch.tensor([x_sequence], dtype=torch.long)\n",
        "    hidden_state = char_rnn.initial_state(batch_size=1)\n",
        "\n",
        "    for _ in range(max_length - len(seed_phrase)):\n",
        "        out, hidden_state = char_rnn(x_sequence[:, -1:], hidden_state)\n",
        "        probabilities = torch.softmax(out / temperature, dim=-1).data.numpy()[0, -1]\n",
        "        next_idx = np.random.choice(len(tokens), p=probabilities)\n",
        "        x_sequence = torch.cat([x_sequence, torch.tensor([[next_idx]], dtype=torch.long)], dim=1)\n",
        "\n",
        "    return \"\".join([idx_to_token[idx] for idx in x_sequence[0].numpy()])\n"
      ]
    },
    {
      "cell_type": "code",
      "execution_count": 16,
      "metadata": {
        "id": "65eAg00Y1a6v",
        "outputId": "8e903640-3121-4c94-e758-c67bf5a1c05b",
        "colab": {
          "base_uri": "https://localhost:8080/"
        }
      },
      "outputs": [
        {
          "output_type": "stream",
          "name": "stdout",
          "text": [
            "Generated text:\n",
            "shall i compare thee thy fortan in long nor dead.\n",
            "\n",
            "  lxv\n",
            "\n",
            "  when i am be i hast shall he show,\n",
            "  and child of heaven no moss,\n",
            "  but a lived urge, the treasure!\n",
            "    to readge to be make and to carignow\n"
          ]
        }
      ],
      "source": [
        "\n",
        "generated_text = generate_sample(model, seed_phrase=\"o Romeo\", temperature=0.7)\n",
        "print(f\"Generated text:\\n{generated_text}\")\n"
      ]
    },
    {
      "cell_type": "markdown",
      "metadata": {
        "id": "4_iRpXvd1a6v"
      },
      "source": [
        "### More poetic model\n",
        "\n",
        "Let's use LSTM instead of vanilla RNN and compare the results.\n",
        "\n",
        "*Comment: if you wish, you can use small GPT as well (e.g. from https://github.com/karpathy/nanoGPT)*"
      ]
    },
    {
      "cell_type": "markdown",
      "metadata": {
        "id": "Di7ZKoQh1a6v"
      },
      "source": [
        "Plot the loss function of the number of epochs. Does the final loss become better?"
      ]
    },
    {
      "cell_type": "code",
      "execution_count": 17,
      "metadata": {
        "collapsed": true,
        "id": "PSS5S1mg1a6v"
      },
      "outputs": [],
      "source": [
        "class CharLSTM(nn.Module):\n",
        "    def __init__(self, vocab_size, embedding_dim, hidden_size, num_layers):\n",
        "        super(CharLSTM, self).__init__()\n",
        "        self.hidden_size = hidden_size\n",
        "        self.num_layers = num_layers\n",
        "\n",
        "        self.embedding = nn.Embedding(vocab_size, embedding_dim)\n",
        "        self.lstm = nn.LSTM(embedding_dim, hidden_size, num_layers, batch_first=True)\n",
        "        self.fc = nn.Linear(hidden_size, vocab_size)\n",
        "\n",
        "    def forward(self, x, hidden_state):\n",
        "        x = self.embedding(x)  # Embed input\n",
        "        out, hidden_state = self.lstm(x, hidden_state)  # LSTM forward\n",
        "        out = self.fc(out)  # Fully connected layer\n",
        "        return out, hidden_state\n",
        "\n",
        "    def initial_state(self, batch_size):\n",
        "        # Return initial hidden and cell states\n",
        "        return (torch.zeros(self.num_layers, batch_size, self.hidden_size),\n",
        "                torch.zeros(self.num_layers, batch_size, self.hidden_size))\n"
      ]
    },
    {
      "cell_type": "code",
      "source": [
        "# Initialize the model\n",
        "model = CharLSTM(vocab_size, EMBEDDING_DIM, HIDDEN_SIZE, NUM_LAYERS)\n",
        "criterion = nn.CrossEntropyLoss()\n",
        "optimizer = optim.Adam(model.parameters(), lr=LEARNING_RATE)\n",
        "\n",
        "# Training loop\n",
        "losses = []\n",
        "for epoch in range(EPOCHS):\n",
        "    total_loss = 0\n",
        "    for batch_inputs, batch_targets in dataloader:\n",
        "        batch_size = batch_inputs.size(0)\n",
        "        hidden_state = model.initial_state(batch_size)\n",
        "        batch_targets = batch_targets.view(-1)\n",
        "\n",
        "        # Forward pass\n",
        "        outputs, hidden_state = model(batch_inputs, hidden_state)\n",
        "        outputs = outputs.view(-1, vocab_size)\n",
        "        loss = criterion(outputs, batch_targets)\n",
        "\n",
        "        # Backward pass\n",
        "        optimizer.zero_grad()\n",
        "        loss.backward()\n",
        "        optimizer.step()\n",
        "\n",
        "        total_loss += loss.item()\n",
        "    avg_loss = total_loss / len(dataloader)\n",
        "    losses.append(avg_loss)\n",
        "    print(f\"Epoch {epoch + 1}/{EPOCHS}, Loss: {avg_loss:.4f}\")\n"
      ],
      "metadata": {
        "id": "TtuhA8An8zp2",
        "outputId": "f3c0f243-17f5-4dc2-d437-79992b7d3cf5",
        "colab": {
          "base_uri": "https://localhost:8080/"
        }
      },
      "execution_count": 18,
      "outputs": [
        {
          "output_type": "stream",
          "name": "stdout",
          "text": [
            "Epoch 1/20, Loss: 1.4877\n",
            "Epoch 2/20, Loss: 1.1688\n",
            "Epoch 3/20, Loss: 1.0728\n",
            "Epoch 4/20, Loss: 1.0254\n",
            "Epoch 5/20, Loss: 0.9981\n",
            "Epoch 6/20, Loss: 0.9798\n",
            "Epoch 7/20, Loss: 0.9667\n",
            "Epoch 8/20, Loss: 0.9562\n",
            "Epoch 9/20, Loss: 0.9480\n",
            "Epoch 10/20, Loss: 0.9409\n",
            "Epoch 11/20, Loss: 0.9353\n",
            "Epoch 12/20, Loss: 0.9308\n",
            "Epoch 13/20, Loss: 0.9258\n",
            "Epoch 14/20, Loss: 0.9225\n",
            "Epoch 15/20, Loss: 0.9188\n",
            "Epoch 16/20, Loss: 0.9155\n",
            "Epoch 17/20, Loss: 0.9138\n",
            "Epoch 18/20, Loss: 0.9112\n",
            "Epoch 19/20, Loss: 0.9085\n",
            "Epoch 20/20, Loss: 0.9059\n"
          ]
        }
      ]
    },
    {
      "cell_type": "code",
      "source": [
        "plt.plot(losses, label=\"Loss\")\n",
        "plt.xlabel(\"Epoch\")\n",
        "plt.ylabel(\"Loss\")\n",
        "plt.title(\"Loss Function\")\n",
        "plt.legend()\n",
        "plt.show()\n"
      ],
      "metadata": {
        "id": "c-NNGghm82Pm",
        "outputId": "6a45f79f-6a6f-4aec-9d06-4f019f575108",
        "colab": {
          "base_uri": "https://localhost:8080/",
          "height": 472
        }
      },
      "execution_count": 19,
      "outputs": [
        {
          "output_type": "display_data",
          "data": {
            "text/plain": [
              "<Figure size 640x480 with 1 Axes>"
            ],
            "image/png": "[encoded data removed]"
          },
          "metadata": {}
        }
      ]
    },
    {
      "cell_type": "markdown",
      "metadata": {
        "id": "fCq-sk0f1a6v"
      },
      "source": [
        "Generate text using the trained net with different `temperature` parameter: `[0.1, 0.2, 0.5, 1.0, 2.0]`.\n",
        "\n",
        "Evaluate the results visually, try to interpret them."
      ]
    },
    {
      "cell_type": "code",
      "execution_count": 35,
      "metadata": {
        "collapsed": true,
        "id": "Pg6jjuus1a6v",
        "outputId": "a28fd742-e6a8-4081-bb85-1583988e8612",
        "colab": {
          "base_uri": "https://localhost:8080/"
        }
      },
      "outputs": [
        {
          "output_type": "stream",
          "name": "stdout",
          "text": [
            "\n",
            "Temperature: 0.1\n",
            "shall i compare thee despite of hearts hath my love of thee, thy proud heart.\n",
            "\n",
            "  liv\n",
            "\n",
            "  if the world will be thy deep knows what with his brain is self-love thee shall be thy mind.\n",
            "    o! least him th\n",
            "\n",
            "Temperature: 0.2\n",
            "shall i compare thee despite of him, i'll live in thee think the stars in my brand of praise,\n",
            "  and so shall be the summer shall be thy deep know.\n",
            "    but thence i soul thee have i seen\n",
            "  than which p\n",
            "\n",
            "Temperature: 0.5\n",
            "shall i compare theeases are me with thy sad.\n",
            "\n",
            "  xxii\n",
            "\n",
            "  my love's wish is so ill,\n",
            "  that day with their pride as thy grace is best.\n",
            "  if thy love and all things raist precious part,\n",
            "  whilst mine own\n",
            "\n",
            "Temperature: 1.0\n",
            "shall i compare theed mind\n",
            "  with milling bears a limble love is blind shopend,\n",
            "  and by, for thine eyes wert which thou a better is tend\n",
            "  same knows made, to leave for my brass aht,\n",
            "  and for conspi\n",
            "\n",
            "Temperature: 2.0\n",
            "shall i compare theed-widl dead wisulbs dose,\n",
            "  gid well-was you'n woummnanued;\n",
            "  and what ityl' to longer full doof wers.\n",
            "  and obls foul, turn fold.\n",
            "  o! 'ch'st to knowive frlen to grace;\n",
            "  budness,\n"
          ]
        }
      ],
      "source": [
        "# Text generation with different temperature values here\n",
        "def generate_sample_lstm(model, seed_phrase=\" hello\", max_length=MAX_LENGTH, temperature=1.0):\n",
        "    x_sequence = [token_to_idx[char] for char in seed_phrase]\n",
        "    x_sequence = torch.tensor([x_sequence], dtype=torch.long)\n",
        "    hidden_state = model.initial_state(batch_size=1)\n",
        "\n",
        "    for _ in range(max_length - len(seed_phrase)):\n",
        "        out, hidden_state = model(x_sequence[:, -1:], hidden_state)\n",
        "        probabilities = torch.softmax(out / temperature, dim=-1).data.numpy()[0, -1]\n",
        "        next_idx = np.random.choice(len(tokens), p=probabilities)\n",
        "        x_sequence = torch.cat([x_sequence, torch.tensor([[next_idx]], dtype=torch.long)], dim=1)\n",
        "\n",
        "    return \"\".join([idx_to_token[idx] for idx in x_sequence[0].numpy()])\n",
        "\n",
        "# Generate text with different temperatures\n",
        "temperatures = [0.1, 0.2, 0.5, 1.0, 2.0]\n",
        "for temp in temperatures:\n",
        "    print(f\"\\nTemperature: {temp}\")\n",
        "    print(generate_sample_lstm(model, seed_phrase=\"o romeo\", temperature=temp))\n"
      ]
    },
    {
      "cell_type": "markdown",
      "metadata": {
        "id": "3zkmq9C81a6v"
      },
      "source": [
        "### Saving and loading models"
      ]
    },
    {
      "cell_type": "markdown",
      "metadata": {
        "id": "bRHtxfax1a6w"
      },
      "source": [
        "Save the model to the disk, then load it and generate text. Examples are available [here](https://pytorch.org/tutorials/beginner/saving_loading_models.html])."
      ]
    },
    {
      "cell_type": "code",
      "execution_count": 38,
      "metadata": {
        "collapsed": true,
        "id": "Xx2-sJqS1a6w",
        "outputId": "e144face-6266-4887-8d89-4638e0754611",
        "colab": {
          "base_uri": "https://localhost:8080/"
        }
      },
      "outputs": [
        {
          "output_type": "stream",
          "name": "stdout",
          "text": [
            "Model saved to char_lstm_model.pth\n",
            "Model loaded from char_lstm_model.pth\n",
            "o romeomethinks well steel'd.\n",
            "    past lacking wretch to the beauty hand defart\n",
            "  the disard to your most abody tearies,\n",
            "  or shall i shall still should cannot by a thrack'd thee have i call,\n",
            "    sing\n"
          ]
        }
      ],
      "source": [
        "torch.save(model.state_dict(), \"char_lstm_model.pth\")\n",
        "print(\"Model saved to char_lstm_model.pth\")\n",
        "loaded_model = CharLSTM(vocab_size, EMBEDDING_DIM, HIDDEN_SIZE, NUM_LAYERS)\n",
        "loaded_model.load_state_dict(torch.load(\"char_lstm_model.pth\", weights_only=True))\n",
        "loaded_model.eval()\n",
        "print(\"Model loaded from char_lstm_model.pth\")\n",
        "print(generate_sample_lstm(loaded_model, seed_phrase=\"o romeo\", temperature=0.8))\n"
      ]
    },
    {
      "cell_type": "markdown",
      "metadata": {
        "id": "T8QF3mTR1a6w"
      },
      "source": [
        "### References\n",
        "1. <a href='http://karpathy.github.io/2015/05/21/rnn-effectiveness/'> Andrew Karpathy blog post about RNN. </a>\n",
        "There are several examples of genration: Shakespeare texts, Latex formulas, Linux Sourse Code and children names.\n",
        "2. <a href='https://github.com/karpathy/char-rnn'> Repo with char-rnn code </a>\n",
        "3. Cool repo with PyTorch examples: [link](https://github.com/spro/practical-pytorch)\n",
        "4. nanoGPT by Andrej Karpathy: https://github.com/karpathy/nanoGPT"
      ]
    }
  ],
  "metadata": {
    "anaconda-cloud": {},
    "kernelspec": {
      "display_name": "Python 3",
      "language": "python",
      "name": "python3"
    },
    "language_info": {
      "codemirror_mode": {
        "name": "ipython",
        "version": 3
      },
      "file_extension": ".py",
      "mimetype": "text/x-python",
      "name": "python",
      "nbconvert_exporter": "python",
      "pygments_lexer": "ipython3",
      "version": "3.7.7"
    },
    "colab": {
      "provenance": []
    }
  },
  "nbformat": 4,
  "nbformat_minor": 0
}